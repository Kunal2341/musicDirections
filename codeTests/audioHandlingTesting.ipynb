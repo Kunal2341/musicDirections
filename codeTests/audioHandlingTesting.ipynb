{
 "cells": [
  {
   "cell_type": "markdown",
   "metadata": {},
   "source": [
    "# Madmom tutorial\n",
    "\n",
    "This tutorial explains some of the basic design patterns of `madmom`.\n",
    "\n",
    "Before we start, we have to import some packages:"
   ]
  },
  {
   "cell_type": "code",
   "execution_count": 22,
   "metadata": {},
   "outputs": [],
   "source": [
    "%matplotlib inline\n",
    "\n",
    "import numpy as np\n",
    "import matplotlib.pyplot as plt\n",
    "\n",
    "import madmom"
   ]
  },
  {
   "cell_type": "markdown",
   "metadata": {},
   "source": [
    "## Functions / classes\n",
    "\n",
    "One of the basic design principles of `madmom` is to provide the same functionality both on functions as well as on class level. The classes provide the same functionality but at the next higher abstraction layer. The main differences are:\n",
    "\n",
    "* functions can return multiple values or a tuple\n",
    "* classes encapsulate these additional values as attributes\n",
    "* functions usually operate on and return numpy arrays\n",
    "* classes are usually subclasses of numpy arrays, i.e. they can be used like numpy arrays\n",
    "* functions require the input data to be of a specific type\n",
    "* classes can handle various input types\n",
    "\n",
    "All these features will be discussed in this tutorial.\n"
   ]
  },
  {
   "cell_type": "markdown",
   "metadata": {},
   "source": [
    "## Loading an audio file\n",
    "\n",
    "Since `madmom` is a library with a strong focus on music information retrival (MIR), let's first load an audio file.\n",
    "The `load_wave_file` function returns a memory mapped numpy array of the audio file and the sample_rate as an integer value."
   ]
  },
  {
   "cell_type": "code",
   "execution_count": 26,
   "metadata": {},
   "outputs": [
    {
     "data": {
      "text/plain": [
       "(memmap([[0, 0],\n",
       "         [0, 0],\n",
       "         [0, 0],\n",
       "         ...,\n",
       "         [0, 0],\n",
       "         [0, 0],\n",
       "         [0, 0]], dtype=int16),\n",
       " 44100)"
      ]
     },
     "execution_count": 26,
     "metadata": {},
     "output_type": "execute_result"
    }
   ],
   "source": [
    "signal, sample_rate = madmom.audio.signal.load_wave_file('testMusic.wav')\n",
    "signal, sample_rate"
   ]
  },
  {
   "cell_type": "code",
   "execution_count": 29,
   "metadata": {},
   "outputs": [
    {
     "data": {
      "text/plain": [
       "9986048"
      ]
     },
     "execution_count": 29,
     "metadata": {},
     "output_type": "execute_result"
    }
   ],
   "source": [
    "len(signal)"
   ]
  },
  {
   "cell_type": "code",
   "execution_count": 32,
   "metadata": {},
   "outputs": [
    {
     "data": {
      "text/plain": [
       "226.4409977324263"
      ]
     },
     "execution_count": 32,
     "metadata": {},
     "output_type": "execute_result"
    }
   ],
   "source": [
    "9986048/44100"
   ]
  },
  {
   "cell_type": "code",
   "execution_count": 33,
   "metadata": {},
   "outputs": [
    {
     "data": {
      "text/plain": [
       "226"
      ]
     },
     "execution_count": 33,
     "metadata": {},
     "output_type": "execute_result"
    }
   ],
   "source": [
    "3*60+46"
   ]
  },
  {
   "cell_type": "markdown",
   "metadata": {},
   "source": [
    "#### Classes provide the same functionality as functions but add some abstraction\n",
    "A `Signal` object is basically the same as the returned `signal` array but it is enhanced with the the `sample_rate` as an attribute:"
   ]
  },
  {
   "cell_type": "code",
   "execution_count": 34,
   "metadata": {},
   "outputs": [
    {
     "data": {
      "text/plain": [
       "(Signal([-2494, -2510, -2484, ...,   520,   655,   639], dtype=int16), 44100)"
      ]
     },
     "execution_count": 34,
     "metadata": {},
     "output_type": "execute_result"
    }
   ],
   "source": [
    "sig = madmom.audio.signal.Signal('data/sample.wav')\n",
    "sig, sig.sample_rate"
   ]
  },
  {
   "cell_type": "markdown",
   "metadata": {},
   "source": [
    "The class uses exactly the same function to load the aufio file, but it encapsulates the sample rate as an attribute of the object. Since the sample rate is important for a lot of consecutive calculations (e.g. to determine the bin frequencies of a STFT) it is necessary to keep it around, but when using the `Signal` class, there is no need to pass it to all the functions which depend on the sample rate of the signal as a separate variable. The `Signal` class takes care of this automatically (or: the other classes are smart enough to access it correctly).\n"
   ]
  },
  {
   "cell_type": "markdown",
   "metadata": {},
   "source": [
    "#### Classes are subclasses of numpy arrays\n",
    "The `Signal` class is a subclass of a numpy array, i.e. it can be used exactly the same way as any numpy array. \n",
    "\n",
    "\n"
   ]
  },
  {
   "cell_type": "markdown",
   "metadata": {},
   "source": [
    "## Framing an audio signal\n",
    "\n",
    "We can then split the signal into overlapping frames. Again, there is both a function and a class performing the same task. Since we consider the classes the more convenient way, we use only them in the ongoing. A look into the source code helps you to discover the equivalent function :)\n",
    "\n",
    "To split the signal into frames of 2048 samples length which overlap by 441 samples, we use the existing `Signal` object as the first argument for instantiation of the `FramedSignal` object."
   ]
  },
  {
   "cell_type": "code",
   "execution_count": 35,
   "metadata": {},
   "outputs": [
    {
     "data": {
      "text/plain": [
       "<madmom.audio.signal.FramedSignal at 0x27d3fb81790>"
      ]
     },
     "execution_count": 35,
     "metadata": {},
     "output_type": "execute_result"
    }
   ],
   "source": [
    "fs = madmom.audio.signal.FramedSignal(sig, frame_size=2048, hop_size=441)\n",
    "fs"
   ]
  },
  {
   "cell_type": "markdown",
   "metadata": {},
   "source": [
    "#### If classes are not subclasses of numpy arrays, they behave similar\n",
    "\n",
    "The `FramedSignal` is implemented as an indexable/iterable class, so we can access the individual frames exactly like a numpy array, e.g. slice the signal. The only difference is that the index -1 does not refer to the last frame, but to the frame left of the first one.\n",
    "\n",
    "Note: the reason why the `FramedSignal` is implemented this way and not as a strided view on the signal numpy array is that we also want to be able to use float hop sizes, e.g. to get a constant frame rate. E.g. to get a frame rate of 200, we could either set the `hop_size` to 220.5 samples or simply pass the `fps` argument instead.\n"
   ]
  },
  {
   "cell_type": "code",
   "execution_count": 36,
   "metadata": {},
   "outputs": [
    {
     "data": {
      "text/plain": [
       "<madmom.audio.signal.FramedSignal at 0x27d3fb81fa0>"
      ]
     },
     "execution_count": 36,
     "metadata": {},
     "output_type": "execute_result"
    }
   ],
   "source": [
    "fs_200 = madmom.audio.signal.FramedSignal(sig, frame_size=2048, fps=200)\n",
    "fs_200"
   ]
  },
  {
   "cell_type": "code",
   "execution_count": 37,
   "metadata": {},
   "outputs": [
    {
     "data": {
      "text/plain": [
       "(100.0,\n",
       " 441.0,\n",
       " Signal([    0,     0,     0, ..., -4553, -4666, -4589], dtype=int16))"
      ]
     },
     "execution_count": 37,
     "metadata": {},
     "output_type": "execute_result"
    }
   ],
   "source": [
    "fs.frame_rate, fs.hop_size, fs[0]"
   ]
  },
  {
   "cell_type": "code",
   "execution_count": 38,
   "metadata": {},
   "outputs": [
    {
     "data": {
      "text/plain": [
       "(200.0,\n",
       " 220.5,\n",
       " Signal([    0,     0,     0, ..., -4553, -4666, -4589], dtype=int16))"
      ]
     },
     "execution_count": 38,
     "metadata": {},
     "output_type": "execute_result"
    }
   ],
   "source": [
    "fs_200.frame_rate, fs_200.hop_size, fs_200[0]"
   ]
  },
  {
   "cell_type": "markdown",
   "metadata": {},
   "source": [
    "The `fps` argument is converted into the appropriate `hop_size`. This conversion could be performed automatically since the `Signal` object has also the needed the sample rate. Thus constant frame rates could be achieved independently of the sample rate of the signal. No need to resample all audio files to the same sample rate beforehand."
   ]
  },
  {
   "cell_type": "markdown",
   "metadata": {},
   "source": [
    "#### Automatic object instantiation\n",
    "Another design feature of the classes is that if they are instantiated with an argument which they don't expect, they try to create an instance of what they expect. E.g. the `FramedSignal` expects a `Signal` instance as the first argument, but we can also pass a file name instead. The `FramedSignal` then instantiates a `Signal` object:"
   ]
  },
  {
   "cell_type": "code",
   "execution_count": 39,
   "metadata": {},
   "outputs": [],
   "source": [
    "fs_ = madmom.audio.signal.FramedSignal('data/sample.wav')"
   ]
  },
  {
   "cell_type": "markdown",
   "metadata": {},
   "source": [
    "A reference to the automatically instantiated `Signal` object is kept as the `signal` attribute."
   ]
  },
  {
   "cell_type": "code",
   "execution_count": 40,
   "metadata": {},
   "outputs": [
    {
     "data": {
      "text/plain": [
       "Signal([-2494, -2510, -2484, ...,   520,   655,   639], dtype=int16)"
      ]
     },
     "execution_count": 40,
     "metadata": {},
     "output_type": "execute_result"
    }
   ],
   "source": [
    "fs_.signal"
   ]
  },
  {
   "cell_type": "code",
   "execution_count": 41,
   "metadata": {},
   "outputs": [
    {
     "data": {
      "text/plain": [
       "(100.0,\n",
       " 441.0,\n",
       " Signal([    0,     0,     0, ..., -4553, -4666, -4589], dtype=int16))"
      ]
     },
     "execution_count": 41,
     "metadata": {},
     "output_type": "execute_result"
    }
   ],
   "source": [
    "fs_.frame_rate, fs_.hop_size, fs_[0]"
   ]
  },
  {
   "cell_type": "markdown",
   "metadata": {},
   "source": [
    "All three ways of obtaining a `FramedSignal` instance are equivalent."
   ]
  },
  {
   "cell_type": "markdown",
   "metadata": {},
   "source": [
    "## Complex STFT\n",
    "\n",
    "Based on this `FramedSignal` we can now continue to calculate the `STFT` of it. The `STFT` class is (of course) a subclass of a numpy array, i.e. it has a `dtype`, can be sliced, transposed etc.."
   ]
  },
  {
   "cell_type": "code",
   "execution_count": 42,
   "metadata": {},
   "outputs": [
    {
     "data": {
      "text/plain": [
       "ShortTimeFourierTransform([[-3.1524918 -0.0000000e+00j,\n",
       "                             2.622157  -3.0242472e+00j,\n",
       "                             0.96471846+5.5787654e+00j, ...,\n",
       "                             0.03642104-3.6184187e-04j,\n",
       "                            -0.03633529-5.1926960e-05j,\n",
       "                             0.03670426+2.8587523e-04j],\n",
       "                           [-4.284289  -0.0000000e+00j,\n",
       "                             2.020094  +2.0126362e+00j,\n",
       "                            -1.5406864 -8.3008909e+00j, ...,\n",
       "                             0.01295261-1.7599182e-02j,\n",
       "                            -0.01980834-9.3310680e-03j,\n",
       "                            -0.00536164+2.1616196e-02j]], dtype=complex64)"
      ]
     },
     "execution_count": 42,
     "metadata": {},
     "output_type": "execute_result"
    }
   ],
   "source": [
    "stft = madmom.audio.stft.STFT(fs)\n",
    "stft[0:2]"
   ]
  },
  {
   "cell_type": "markdown",
   "metadata": {},
   "source": [
    "## Magnitude Spectrogram\n",
    "More often than the complex `STFT`, the magnitudes of it are used for MIR tasks. Magnitude spectrograms are represented by the `Spectrogram` class."
   ]
  },
  {
   "cell_type": "code",
   "execution_count": 43,
   "metadata": {},
   "outputs": [],
   "source": [
    "spec = madmom.audio.spectrogram.Spectrogram(stft)"
   ]
  },
  {
   "cell_type": "code",
   "execution_count": 44,
   "metadata": {},
   "outputs": [
    {
     "data": {
      "text/plain": [
       "<matplotlib.image.AxesImage at 0x27d3fbc97f0>"
      ]
     },
     "execution_count": 44,
     "metadata": {},
     "output_type": "execute_result"
    },
    {
     "data": {
      "image/png": "[encoded data removed]",
      "text/plain": [
       "<Figure size 432x288 with 1 Axes>"
      ]
     },
     "metadata": {
      "needs_background": "light"
     },
     "output_type": "display_data"
    }
   ],
   "source": [
    "plt.imshow(spec.T, aspect='auto', origin='lower')"
   ]
  },
  {
   "cell_type": "markdown",
   "metadata": {},
   "source": [
    "As before, although the `Spectrogram` class expects a `STFT` instance as its only argument, we could also have passed any other data to it as long as a `STFT` object can be instantiated from it. This can be a `FramedSignal` or `Signal` instance or just a file name (or file handle).\n",
    "\n",
    "Additional keywords are passed accordingly, i.e. we can get the magnitude spectrogram of a file with a frame size of 2048 samples, a hop size of 200 samples, a FFT size of 4096 samples simple as:"
   ]
  },
  {
   "cell_type": "code",
   "execution_count": 49,
   "metadata": {},
   "outputs": [],
   "source": [
    "spec = madmom.audio.spectrogram.Spectrogram('data/sample.wav', frame_size=2048, hop_size=200, fft_size=4096)"
   ]
  },
  {
   "cell_type": "code",
   "execution_count": 46,
   "metadata": {},
   "outputs": [
    {
     "data": {
      "text/plain": [
       "((618, 2048),\n",
       " array([0.00000000e+00, 1.07666016e+01, 2.15332031e+01, ...,\n",
       "        2.20177002e+04, 2.20284668e+04, 2.20392334e+04]))"
      ]
     },
     "execution_count": 46,
     "metadata": {},
     "output_type": "execute_result"
    }
   ],
   "source": [
    "spec.shape, spec.bin_frequencies"
   ]
  },
  {
   "cell_type": "markdown",
   "metadata": {},
   "source": [
    "Additionally, the `Spectrogram` class also keeps their underlying objects as attributes, e.g. the factor to which the individual frames overlap, can be accessed as if we go up the instantiation chain."
   ]
  },
  {
   "cell_type": "code",
   "execution_count": 47,
   "metadata": {},
   "outputs": [
    {
     "data": {
      "text/plain": [
       "0.90234375"
      ]
     },
     "execution_count": 47,
     "metadata": {},
     "output_type": "execute_result"
    }
   ],
   "source": [
    "spec.stft.frames.overlap_factor"
   ]
  },
  {
   "cell_type": "markdown",
   "metadata": {},
   "source": [
    "For a complete list of attributes and methods of the classes, please refer to the API documentation. These are just the basic things needed to continue with other (higher level) tasks."
   ]
  },
  {
   "cell_type": "code",
   "execution_count": null,
   "metadata": {},
   "outputs": [],
   "source": []
  },
  {
   "cell_type": "code",
   "execution_count": null,
   "metadata": {},
   "outputs": [],
   "source": []
  },
  {
   "cell_type": "code",
   "execution_count": null,
   "metadata": {},
   "outputs": [],
   "source": []
  },
  {
   "cell_type": "code",
   "execution_count": null,
   "metadata": {},
   "outputs": [],
   "source": []
  }
 ],
 "metadata": {
  "kernelspec": {
   "display_name": "Python 3",
   "language": "python",
   "name": "python3"
  },
  "language_info": {
   "codemirror_mode": {
    "name": "ipython",
    "version": 3
   },
   "file_extension": ".py",
   "mimetype": "text/x-python",
   "name": "python",
   "nbconvert_exporter": "python",
   "pygments_lexer": "ipython3",
   "version": "3.8.6"
  }
 },
 "nbformat": 4,
 "nbformat_minor": 1
}
